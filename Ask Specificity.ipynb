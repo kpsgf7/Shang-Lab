{
 "cells": [
  {
   "cell_type": "code",
   "execution_count": 42,
   "metadata": {},
   "outputs": [],
   "source": [
    "import pandas as pd\n",
    "from sklearn.decomposition import PCA\n",
    "from stanfordcorenlp import StanfordCoreNLP\n",
    "nlp = StanfordCoreNLP(r'../stanford-corenlp-full')\n",
    "import matplotlib.pyplot as plt\n",
    "%matplotlib inline\n",
    "\n",
    "import numpy as np\n",
    "from sklearn.tree import DecisionTreeClassifier"
   ]
  },
  {
   "cell_type": "code",
   "execution_count": 43,
   "metadata": {},
   "outputs": [
    {
     "name": "stdout",
     "output_type": "stream",
     "text": [
      "0    539\n",
      "1     32\n",
      "2     24\n",
      "3     19\n",
      "Name: Ask, dtype: int64\n"
     ]
    }
   ],
   "source": [
    "# load data and cut out information we don't want\n",
    "data_df = (pd.read_excel(\"Labeled Turns.xlsx\"))[[\"Call_ID\", \"Time-ordered_segment\",\"S_content\",\"Ask\"]]\n",
    "data_df[\"S_content\"] = data_df[\"S_content\"].str.lower()\n",
    "data_df[\"S_content\"] = data_df[\"S_content\"].str.replace(\"#\",\"\")\n",
    "print(data_df[\"Ask\"].value_counts())\n",
    "\n",
    "# load up the dictionary\n",
    "dict_df = pd.read_excel(\"Ask Specificity Dict.xlsx\")\n",
    "dict_df[\"Phrases\"] = dict_df[\"Phrases\"].str.lower()"
   ]
  },
  {
   "cell_type": "markdown",
   "metadata": {},
   "source": [
    "The above code loads all of the data using pandas. An interesting thing to note from the output is that there are 75 turns labeled for some sort of ask specificity.\n",
    "\n",
    "The cell below turns it into an array. The cell after that defines a function for processing based on the stanford parser"
   ]
  },
  {
   "cell_type": "code",
   "execution_count": 44,
   "metadata": {},
   "outputs": [
    {
     "name": "stdout",
     "output_type": "stream",
     "text": [
      "['around 1', 'around 10', 'around 11', 'around 12', 'around 2', 'around 3', 'around 4', 'around 9', 'around eleven', 'around four', 'around nine', 'around noon', 'around one', 'around ten', 'around three', 'around twelve', 'around two', 'at 1', 'at 10', 'at 11', 'at 12', 'at 2', 'at 3', 'at 4', 'at 9', 'at eleven', 'at four', 'at nine', 'at noon', 'at one', 'at some point', 'at ten', 'at three', 'at twelve', 'at two', 'calendar ', 'could come in', 'fifteen or twenty minutes', 'friday ', 'hour', 'minutes', 'monday', 'next couple of weeks', 'next couple weeks', 'next friday', 'next friday or', 'next monday', 'next monday or', 'next month ', 'next several weeks', 'next thursday', 'next thursday or ', 'next tuesday ', 'next tuesday or', 'next wednesday', 'next wednesday or', 'next week', 'next week or the following', 'rep come out', 'rep to meet with ', 'some time', 'stop back in', 'stop by', 'stop in', 'the week of the', 'this friday', 'this monday', 'this month', 'this thursday', 'this tuesday', 'this wednesday', 'thursday', 'tuesday', 'wednesday', 'week after']\n"
     ]
    }
   ],
   "source": [
    "data_array = data_df.values\n",
    "dict_array = [x[0] for x in dict_df.values]\n",
    "print(dict_array)"
   ]
  },
  {
   "cell_type": "code",
   "execution_count": 45,
   "metadata": {},
   "outputs": [],
   "source": [
    "def process_text(txt):\n",
    "    \n",
    "    output = [0,0,0,0,0,0,0,0]\n",
    "    tagged_line = nlp.pos_tag(txt)\n",
    "    one_back = 'NONE'\n",
    "    two_back = 'NONE'\n",
    "    \n",
    "    #bitty question: for last two do I need the dependency parser or are those just straight up one after the other?\n",
    "    \n",
    "    for pair in tagged_line:\n",
    "        if pair[1] == 'CD':\n",
    "            output[0] = 1\n",
    "            \n",
    "        if pair[1] == 'NN':\n",
    "            output[1] = 1\n",
    "            \n",
    "        if pair[1] == 'NNP':\n",
    "            output[2] = 1\n",
    "            \n",
    "        if pair[1] == 'IN' and one_back == 'NN':\n",
    "            output[3] = 1\n",
    "        \n",
    "        if pair[1] == 'IN' and one_back == 'VB' and two_back != 'PRP':\n",
    "            output[4] = 1\n",
    "            \n",
    "        if pair[1] == 'VB' and one_back == 'MD' and two_back != 'PRP':\n",
    "            output[5] = 1\n",
    "            \n",
    "        if pair[1] == 'RP' and one_back == 'VBN' and two_back == 'NN':\n",
    "            output[6] = 1\n",
    "            \n",
    "        if pair[1] == 'IN' and one_back == 'RP' and two_back == 'VB':\n",
    "            output[7] = 1\n",
    "        \n",
    "        two_back = one_back\n",
    "        one_back = pair[1]\n",
    "        \n",
    "    return output"
   ]
  },
  {
   "cell_type": "markdown",
   "metadata": {},
   "source": [
    "The next cell runs through and uses the stanford parser on every first Salesperson turn where it finds something from the dictionary. It also associates an index with the output."
   ]
  },
  {
   "cell_type": "code",
   "execution_count": 46,
   "metadata": {},
   "outputs": [],
   "source": [
    "current_call_id = data_array[0][0]\n",
    "found_turn = 0\n",
    "\n",
    "# there are 8 rules plus the length of the dictionary\n",
    "processed_rows = []\n",
    "idx = 0\n",
    "\n",
    "for row in data_array:\n",
    "    if row[0] == current_call_id and found_turn == 0:\n",
    "        \n",
    "        if any(phrase in row[2] for phrase in dict_array):\n",
    "            output = process_text(row[2])\n",
    "            processed_rows.append((idx,output))\n",
    "            found_turn = 1\n",
    "        \n",
    "    if row[0] != current_call_id:\n",
    "        found_turn = 0\n",
    "        current_call_id = row[0]\n",
    "        \n",
    "        if any(phrase in row[2] for phrase in dict_array):\n",
    "            output = process_text(row[2])\n",
    "            processed_rows.append((idx,output))\n",
    "            found_turn = 1\n",
    "        \n",
    "    idx += 1\n",
    "    \n",
    "\n",
    "# for row in data_array:\n",
    "#     if row[0] == current_call_id and found_turn == 0:\n",
    "        \n",
    "#         output = process_text(row[2])\n",
    "        \n",
    "#         if 1 in output:\n",
    "#             processed_rows.append((idx,output))\n",
    "#             found_turn = 1\n",
    "        \n",
    "#     if row[0] != current_call_id:\n",
    "#         found_turn = 0\n",
    "#         current_call_id = row[0]\n",
    "        \n",
    "#         output = process_text(row[2])\n",
    "        \n",
    "#         if 1 in output:\n",
    "#             processed_rows.append((idx,output))\n",
    "#             found_turn = 1\n",
    "        \n",
    "#     idx += 1\n",
    "    "
   ]
  },
  {
   "cell_type": "markdown",
   "metadata": {},
   "source": [
    "The next cell prints out how many rows we ended up tagging for ask specificty by following that rule. It only brings up 62 which is a little short of 75. The numbers that print along with that show the tuple with an index and a stanford parser produced feature vector for that row in the data array."
   ]
  },
  {
   "cell_type": "code",
   "execution_count": 47,
   "metadata": {},
   "outputs": [
    {
     "name": "stdout",
     "output_type": "stream",
     "text": [
      "62\n",
      "(4, [1, 1, 1, 1, 1, 1, 0, 0])\n"
     ]
    }
   ],
   "source": [
    "print(len(processed_rows))\n",
    "print(processed_rows[0])"
   ]
  },
  {
   "cell_type": "markdown",
   "metadata": {},
   "source": [
    "Plot the actual labels from the turns we picked out using the rules. Some of these come out as zero which means we picked up a few turns that weren't supposed to be picked up."
   ]
  },
  {
   "cell_type": "code",
   "execution_count": 48,
   "metadata": {},
   "outputs": [
    {
     "name": "stdout",
     "output_type": "stream",
     "text": [
      "62\n"
     ]
    },
    {
     "data": {
      "image/png": "[encoded data removed]",
      "text/plain": [
       "<Figure size 432x288 with 1 Axes>"
      ]
     },
     "metadata": {},
     "output_type": "display_data"
    }
   ],
   "source": [
    "labels=[data_array[x][3] for x in [t[0] for t in processed_rows]]\n",
    "zero_count = 0\n",
    "one_count = 0\n",
    "two_count = 0\n",
    "three_count = 0\n",
    "\n",
    "for x in labels:\n",
    "    if x == 0:\n",
    "        zero_count += 1\n",
    "    elif x == 1:\n",
    "        one_count += 1\n",
    "    elif x == 2:\n",
    "        two_count += 1\n",
    "    elif x == 3:\n",
    "        three_count += 1\n",
    "\n",
    "print(zero_count+one_count+two_count+three_count)\n",
    "plt.bar([\"zero\",\"one\",\"two\",\"three\"],[zero_count,one_count,two_count,three_count])\n",
    "plt.show()"
   ]
  },
  {
   "cell_type": "markdown",
   "metadata": {},
   "source": [
    "I went ahead and ran PCA to reduce the feature vector from 8 to 2 just to see if it even looks seperable.\n",
    "PCA doesn't work quite as well on One hot encoded vectors which you can see in the plot below.\n",
    "Many points land on top of each other so I plotted each set seperatly to see what it looks like."
   ]
  },
  {
   "cell_type": "code",
   "execution_count": 49,
   "metadata": {},
   "outputs": [
    {
     "data": {
      "image/png": "[encoded data removed]",
      "text/plain": [
       "<Figure size 432x288 with 2 Axes>"
      ]
     },
     "metadata": {},
     "output_type": "display_data"
    }
   ],
   "source": [
    "pca = PCA(2)\n",
    "projected_points = pca.fit_transform([t[1] for t in processed_rows])\n",
    "plt.scatter(projected_points[:,0], projected_points[:,1],c=labels)\n",
    "plt.colorbar()\n",
    "plt.show()"
   ]
  },
  {
   "cell_type": "code",
   "execution_count": 50,
   "metadata": {},
   "outputs": [
    {
     "data": {
      "image/png": "[encoded data removed]",
      "text/plain": [
       "<Figure size 432x288 with 1 Axes>"
      ]
     },
     "metadata": {},
     "output_type": "display_data"
    }
   ],
   "source": [
    "\n",
    "class_points = [x[0] for x in zip(projected_points, labels) if x[1]==0]\n",
    "plt.scatter([x[0] for x in class_points],[x[1] for x in class_points])\n",
    "plt.show()"
   ]
  },
  {
   "cell_type": "code",
   "execution_count": 51,
   "metadata": {},
   "outputs": [
    {
     "data": {
      "image/png": "[encoded data removed]",
      "text/plain": [
       "<Figure size 432x288 with 1 Axes>"
      ]
     },
     "metadata": {},
     "output_type": "display_data"
    }
   ],
   "source": [
    "class_points = [x[0] for x in zip(projected_points, labels) if x[1]==1]\n",
    "plt.scatter([x[0] for x in class_points],[x[1] for x in class_points])\n",
    "plt.show()"
   ]
  },
  {
   "cell_type": "code",
   "execution_count": 52,
   "metadata": {},
   "outputs": [
    {
     "data": {
      "image/png": "[encoded data removed]",
      "text/plain": [
       "<Figure size 432x288 with 1 Axes>"
      ]
     },
     "metadata": {},
     "output_type": "display_data"
    }
   ],
   "source": [
    "class_points = [x[0] for x in zip(projected_points, labels) if x[1]==2]\n",
    "plt.scatter([x[0] for x in class_points],[x[1] for x in class_points])\n",
    "plt.show()"
   ]
  },
  {
   "cell_type": "code",
   "execution_count": 53,
   "metadata": {},
   "outputs": [
    {
     "data": {
      "image/png": "[encoded data removed]",
      "text/plain": [
       "<Figure size 432x288 with 1 Axes>"
      ]
     },
     "metadata": {},
     "output_type": "display_data"
    }
   ],
   "source": [
    "class_points = [x[0] for x in zip(projected_points, labels) if x[1]==3]\n",
    "plt.scatter([x[0] for x in class_points],[x[1] for x in class_points])\n",
    "plt.show()"
   ]
  },
  {
   "cell_type": "markdown",
   "metadata": {},
   "source": [
    "Basically what the plots above show is that there are members of each class all around the map and that the features aren't super seperable. The next few cells go ahead and run predictions anyway just to see where we're at"
   ]
  },
  {
   "cell_type": "code",
   "execution_count": 54,
   "metadata": {},
   "outputs": [],
   "source": [
    "features = [t[1] for t in processed_rows]"
   ]
  },
  {
   "cell_type": "code",
   "execution_count": 55,
   "metadata": {},
   "outputs": [
    {
     "name": "stdout",
     "output_type": "stream",
     "text": [
      "19\n"
     ]
    },
    {
     "data": {
      "text/plain": [
       "0.7894736842105263"
      ]
     },
     "execution_count": 55,
     "metadata": {},
     "output_type": "execute_result"
    }
   ],
   "source": [
    "clf = DecisionTreeClassifier(random_state=0)\n",
    "split = int(np.floor(len(features)*.7))\n",
    "print(len(features[split:]))\n",
    "clf.fit(features[:split], labels[:split])\n",
    "clf.score(features[split:], labels[split:])"
   ]
  },
  {
   "cell_type": "markdown",
   "metadata": {},
   "source": [
    "The above cell shows an accuracy of 78 percent on turns that are already labeled as having ask specificity. Basically, if we knew that a turn had ask specificity, we could predict which type with about 78 percent accuracy. The next couple of cells will try to predict just if ask specificity is present, but not which type."
   ]
  },
  {
   "cell_type": "code",
   "execution_count": 56,
   "metadata": {},
   "outputs": [],
   "source": [
    "current_call_id = data_array[0][0]\n",
    "found_turn = 0\n",
    "\n",
    "processed_rows = []\n",
    "idx = 0\n",
    "\n",
    "for row in data_array:\n",
    "    if row[0] == current_call_id and found_turn == 0:\n",
    "        \n",
    "        if any(phrase in row[2] for phrase in dict_array):\n",
    "            output = process_text(row[2])\n",
    "            processed_rows.append((idx,output))\n",
    "            found_turn = 1\n",
    "            \n",
    "        else:\n",
    "            processed_rows.append((idx,[0,0,0,0,0,0,0,0]))\n",
    "        \n",
    "    if row[0] == current_call_id and found_turn == 1:\n",
    "            processed_rows.append((idx,[0,0,0,0,0,0,0,0]))\n",
    "            \n",
    "    if row[0] != current_call_id:\n",
    "        found_turn = 0\n",
    "        current_call_id = row[0]\n",
    "        \n",
    "        if any(phrase in row[2] for phrase in dict_array):\n",
    "            output = process_text(row[2])\n",
    "            processed_rows.append((idx,output))\n",
    "            found_turn = 1\n",
    "        \n",
    "    idx += 1\n",
    "  "
   ]
  },
  {
   "cell_type": "code",
   "execution_count": 57,
   "metadata": {},
   "outputs": [],
   "source": [
    "features = [t[1] for t in processed_rows]\n",
    "labels=[data_array[x][3] for x in [t[0] for t in processed_rows]]"
   ]
  },
  {
   "cell_type": "code",
   "execution_count": 58,
   "metadata": {},
   "outputs": [
    {
     "name": "stdout",
     "output_type": "stream",
     "text": [
      "180\n"
     ]
    },
    {
     "data": {
      "text/plain": [
       "0.8555555555555555"
      ]
     },
     "execution_count": 58,
     "metadata": {},
     "output_type": "execute_result"
    }
   ],
   "source": [
    "clf = DecisionTreeClassifier(random_state=0)\n",
    "split = int(np.floor(len(features)*.7))\n",
    "print(len(features[split:]))\n",
    "clf.fit(features[:split], labels[:split])\n",
    "clf.score(features[split:], labels[split:])"
   ]
  },
  {
   "cell_type": "markdown",
   "metadata": {},
   "source": [
    "The above cell shows that based on the rules for ask specificity, we can predict if ask specificty is actually present with about 85 percent accuracy. Given the charts from earlier in the notebook, this is actually better than I expected."
   ]
  },
  {
   "cell_type": "code",
   "execution_count": null,
   "metadata": {},
   "outputs": [],
   "source": []
  }
 ],
 "metadata": {
  "kernelspec": {
   "display_name": "Python 3",
   "language": "python",
   "name": "python3"
  },
  "language_info": {
   "codemirror_mode": {
    "name": "ipython",
    "version": 3
   },
   "file_extension": ".py",
   "mimetype": "text/x-python",
   "name": "python",
   "nbconvert_exporter": "python",
   "pygments_lexer": "ipython3",
   "version": "3.5.4"
  }
 },
 "nbformat": 4,
 "nbformat_minor": 2
}
